{
 "cells": [
  {
   "cell_type": "code",
   "execution_count": null,
   "metadata": {
    "vscode": {
     "languageId": "plaintext"
    }
   },
   "outputs": [],
   "source": [
    "! pip install huggingface_hub boto3"
   ]
  },
  {
   "cell_type": "code",
   "execution_count": null,
   "metadata": {
    "vscode": {
     "languageId": "plaintext"
    }
   },
   "outputs": [],
   "source": [
    "from huggingface_hub import snapshot_download\n",
    "import boto3\n",
    "import os"
   ]
  },
  {
   "cell_type": "code",
   "execution_count": null,
   "metadata": {
    "vscode": {
     "languageId": "plaintext"
    }
   },
   "outputs": [],
   "source": [
    "%%time\n",
    "\n",
    "model_id = \"deepseek-ai/DeepSeek-R1-Distill-Llama-70B\"\n",
    "local_dir = snapshot_download(repo_id=model_id, local_dir=\"DeepSeek-R1-Distill-Llama-70B\")"
   ]
  },
  {
   "cell_type": "code",
   "execution_count": null,
   "metadata": {
    "vscode": {
     "languageId": "plaintext"
    }
   },
   "outputs": [],
   "source": [
    "# Initialize S3 client\n",
    "s3_client = boto3.client('s3', region_name='us-east-1')\n",
    "\n",
    "# ✅ Correct S3 bucket name (only bucket name, no folder path)\n",
    "bucket_name = 'wyn-associates'\n",
    "\n",
    "# ✅ Local directory containing files\n",
    "local_directory = \"DeepSeek-R1-Distill-Llama-70B\"\n",
    "\n",
    "# ✅ Upload files to S3 inside the \"models/\" folder\n",
    "for root, dirs, files in os.walk(local_directory):\n",
    "    for file in files:\n",
    "        local_path = os.path.join(root, file)  # Local file path\n",
    "        s3_key = os.path.relpath(local_path, local_directory).replace(\"\\\\\", \"/\")  # Normalize path\n",
    "\n",
    "        # ✅ Prepend \"models/\" to ensure files go inside this folder in S3\n",
    "        s3_key = f\"models/{s3_key}\"\n",
    "\n",
    "        print(f\"Uploading {local_path} to s3://{bucket_name}/{s3_key}\")\n",
    "\n",
    "        # ✅ Corrected S3 upload\n",
    "        s3_client.upload_file(local_path, bucket_name, s3_key)"
   ]
  },
  {
   "cell_type": "code",
   "execution_count": null,
   "metadata": {
    "vscode": {
     "languageId": "plaintext"
    }
   },
   "outputs": [],
   "source": [
    "print(\"Done\")"
   ]
  }
 ],
 "metadata": {
  "language_info": {
   "name": "python"
  }
 },
 "nbformat": 4,
 "nbformat_minor": 2
}
